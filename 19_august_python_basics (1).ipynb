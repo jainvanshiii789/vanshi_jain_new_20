{
 "cells": [
  {
   "cell_type": "code",
   "execution_count": 1,
   "id": "7c7cfc71-8a2c-4351-a640-e0b2b41a38ad",
   "metadata": {},
   "outputs": [],
   "source": [
    "#sol.1:first of all i am taking two variables 'x' and 'y' and assigning them integers;"
   ]
  },
  {
   "cell_type": "code",
   "execution_count": 3,
   "id": "81307224-939f-4282-9b4e-a78b9ca7bc06",
   "metadata": {},
   "outputs": [],
   "source": [
    "x = 8"
   ]
  },
  {
   "cell_type": "code",
   "execution_count": 4,
   "id": "66fe3b23-d897-4b91-88f8-c117b83c6806",
   "metadata": {},
   "outputs": [],
   "source": [
    "y = 9"
   ]
  },
  {
   "cell_type": "code",
   "execution_count": 5,
   "id": "dce4bfa3-d6d8-4e8b-8b72-ddedc6ef4ad8",
   "metadata": {},
   "outputs": [
    {
     "data": {
      "text/plain": [
       "int"
      ]
     },
     "execution_count": 5,
     "metadata": {},
     "output_type": "execute_result"
    }
   ],
   "source": [
    "type(x)"
   ]
  },
  {
   "cell_type": "code",
   "execution_count": 6,
   "id": "0d0cf8f6-02ec-4ac9-a3c2-34b358b16fe8",
   "metadata": {},
   "outputs": [],
   "source": [
    "#now for swaping their values without using any temporary variable ,i am using the following path;"
   ]
  },
  {
   "cell_type": "code",
   "execution_count": 7,
   "id": "de64c6c4-f1d2-4105-b874-c3fc25da2bb7",
   "metadata": {},
   "outputs": [],
   "source": [
    "x,y = y,x"
   ]
  },
  {
   "cell_type": "code",
   "execution_count": 8,
   "id": "e933d3ed-fb43-4b86-87ac-0c4bab488b3d",
   "metadata": {},
   "outputs": [],
   "source": [
    "#now;"
   ]
  },
  {
   "cell_type": "code",
   "execution_count": 9,
   "id": "f53debf2-704d-4d36-9349-c7e81b5e8855",
   "metadata": {},
   "outputs": [
    {
     "data": {
      "text/plain": [
       "9"
      ]
     },
     "execution_count": 9,
     "metadata": {},
     "output_type": "execute_result"
    }
   ],
   "source": [
    "x"
   ]
  },
  {
   "cell_type": "code",
   "execution_count": 10,
   "id": "5af89bd8-ccc5-4cc5-bb08-725f6c88450b",
   "metadata": {},
   "outputs": [
    {
     "data": {
      "text/plain": [
       "8"
      ]
     },
     "execution_count": 10,
     "metadata": {},
     "output_type": "execute_result"
    }
   ],
   "source": [
    "y"
   ]
  },
  {
   "cell_type": "code",
   "execution_count": 11,
   "id": "1ec924c2-8c8b-43c2-b1c7-c2be5ec722f1",
   "metadata": {},
   "outputs": [],
   "source": [
    "#as we can see that the values of x and y is swaped."
   ]
  },
  {
   "cell_type": "code",
   "execution_count": null,
   "id": "f0f5d81e-8a4c-409b-9d0a-24a242091b8e",
   "metadata": {},
   "outputs": [],
   "source": []
  },
  {
   "cell_type": "code",
   "execution_count": 1,
   "id": "d49c97a1-4e82-4440-b37a-225d801c617d",
   "metadata": {},
   "outputs": [],
   "source": [
    "#sol.2:To calculate the area of rectangle ,we need its length and breadth the,"
   ]
  },
  {
   "cell_type": "code",
   "execution_count": 2,
   "id": "34e8f01a-3d6f-4812-842b-feff093c81c0",
   "metadata": {},
   "outputs": [
    {
     "name": "stdin",
     "output_type": "stream",
     "text": [
      "enter length here :  85\n"
     ]
    }
   ],
   "source": [
    "length = float(input(\"enter length here : \"))"
   ]
  },
  {
   "cell_type": "code",
   "execution_count": 3,
   "id": "fffc6d04-48c3-41c7-9fcf-b21b0e1d397a",
   "metadata": {},
   "outputs": [
    {
     "name": "stdin",
     "output_type": "stream",
     "text": [
      "enter breadth here :  52\n"
     ]
    }
   ],
   "source": [
    "breadth = float(input(\"enter breadth here : \"))"
   ]
  },
  {
   "cell_type": "code",
   "execution_count": 4,
   "id": "fbf7b159-aa98-44e8-878f-f7ef334f31b6",
   "metadata": {},
   "outputs": [
    {
     "name": "stdout",
     "output_type": "stream",
     "text": [
      "area of rectangle is 4420.0\n"
     ]
    }
   ],
   "source": [
    "area = print(\"area of rectangle is\",length*breadth)"
   ]
  },
  {
   "cell_type": "code",
   "execution_count": 5,
   "id": "492d7a77-9532-42ac-b20c-4ba596d67822",
   "metadata": {},
   "outputs": [],
   "source": []
  },
  {
   "cell_type": "code",
   "execution_count": 6,
   "id": "8e9a05c6-8685-4cd6-b052-b4d7df4de3de",
   "metadata": {},
   "outputs": [],
   "source": []
  },
  {
   "cell_type": "code",
   "execution_count": 8,
   "id": "5ee508c9-f881-4b6c-b52f-f10642c60b26",
   "metadata": {},
   "outputs": [],
   "source": [
    "#sol.3:To convert temperature from celsius to fahrenheit,we must know that(0 celcius = (0*9/5)+32fahrenheit) then"
   ]
  },
  {
   "cell_type": "code",
   "execution_count": 16,
   "id": "0d0c6665-c461-4e35-96c7-9da62fd95588",
   "metadata": {},
   "outputs": [
    {
     "name": "stdin",
     "output_type": "stream",
     "text": [
      "enter value of temperature in celsius : 40\n"
     ]
    }
   ],
   "source": [
    "celsius =int(input(\"enter value of temperature in celsius :\"))"
   ]
  },
  {
   "cell_type": "code",
   "execution_count": 17,
   "id": "15f43529-a183-4d0f-9854-f9938da3a17f",
   "metadata": {},
   "outputs": [],
   "source": [
    "fahrenheit = (celsius*(9/5))+32 "
   ]
  },
  {
   "cell_type": "code",
   "execution_count": 19,
   "id": "740288a9-c348-4ed9-82f9-07159162ee2c",
   "metadata": {},
   "outputs": [
    {
     "name": "stdout",
     "output_type": "stream",
     "text": [
      "the converted value is 104.0 fehrenhiet\n"
     ]
    }
   ],
   "source": [
    "print(\"the converted value is\",fahrenheit,\"fehrenhiet\")"
   ]
  },
  {
   "cell_type": "code",
   "execution_count": null,
   "id": "bcf398a2-0719-4f58-9017-454a4d5325de",
   "metadata": {},
   "outputs": [],
   "source": []
  },
  {
   "cell_type": "code",
   "execution_count": 20,
   "id": "518a3d98-87ae-4f7c-834f-afd09dc782b2",
   "metadata": {},
   "outputs": [],
   "source": [
    "###STRING RELATED QUESTIONS:"
   ]
  },
  {
   "cell_type": "code",
   "execution_count": 21,
   "id": "f6afbfd7-7191-4e95-afc2-19d26c121f34",
   "metadata": {},
   "outputs": [],
   "source": [
    "#sol.1:first of all we have to create an input function;"
   ]
  },
  {
   "cell_type": "code",
   "execution_count": 22,
   "id": "0d6381e6-07e3-43a7-84bb-1808fded5479",
   "metadata": {},
   "outputs": [
    {
     "name": "stdin",
     "output_type": "stream",
     "text": [
      " I am okayy\n"
     ]
    }
   ],
   "source": [
    "s = input()"
   ]
  },
  {
   "cell_type": "code",
   "execution_count": 23,
   "id": "d6d9d737-19c9-43f6-970f-cd06c8630704",
   "metadata": {},
   "outputs": [
    {
     "data": {
      "text/plain": [
       "str"
      ]
     },
     "execution_count": 23,
     "metadata": {},
     "output_type": "execute_result"
    }
   ],
   "source": [
    "type(s)"
   ]
  },
  {
   "cell_type": "code",
   "execution_count": 24,
   "id": "41bf9837-356d-411e-8f61-9c3456b5961e",
   "metadata": {},
   "outputs": [],
   "source": [
    "a = len(s)"
   ]
  },
  {
   "cell_type": "code",
   "execution_count": 25,
   "id": "6652d729-7e9a-47ea-9c58-01613c567605",
   "metadata": {},
   "outputs": [
    {
     "name": "stdout",
     "output_type": "stream",
     "text": [
      "The length of the given string is 10\n"
     ]
    }
   ],
   "source": [
    "print(\"The length of the given string is\",a)"
   ]
  },
  {
   "cell_type": "code",
   "execution_count": 26,
   "id": "d45f042a-76e7-46e3-8fe0-5ae7ead84df0",
   "metadata": {},
   "outputs": [],
   "source": [
    "#So in this way we can print the length of the string."
   ]
  },
  {
   "cell_type": "code",
   "execution_count": null,
   "id": "2b1851f8-f68b-4c16-8ead-e6d3e2f6b845",
   "metadata": {},
   "outputs": [],
   "source": []
  },
  {
   "cell_type": "code",
   "execution_count": 47,
   "id": "0c6481dc-af55-4b1c-bc9b-af6fe70e3791",
   "metadata": {},
   "outputs": [],
   "source": [
    "#SOL.2:COUNT THE VOWELS IN STRING s;"
   ]
  },
  {
   "cell_type": "code",
   "execution_count": 48,
   "id": "ad3ba3e5-0ca0-4179-916b-fed8da8c743f",
   "metadata": {},
   "outputs": [],
   "source": [
    "s = \"ineuron Is Best Platform\""
   ]
  },
  {
   "cell_type": "code",
   "execution_count": 49,
   "id": "d5b9b91e-6d29-456f-bc47-8f23df97ee94",
   "metadata": {},
   "outputs": [],
   "source": [
    "s = s.casefold()"
   ]
  },
  {
   "cell_type": "code",
   "execution_count": 50,
   "id": "5a8fe152-7c5b-479a-b1d2-e60d1995db1a",
   "metadata": {},
   "outputs": [
    {
     "data": {
      "text/plain": [
       "'ineuron is best platform'"
      ]
     },
     "execution_count": 50,
     "metadata": {},
     "output_type": "execute_result"
    }
   ],
   "source": [
    "s"
   ]
  },
  {
   "cell_type": "code",
   "execution_count": 52,
   "id": "dbdcca7b-cdfe-4864-8cbf-fe9fbaf65113",
   "metadata": {},
   "outputs": [],
   "source": [
    "vowel = \"aeiou\""
   ]
  },
  {
   "cell_type": "code",
   "execution_count": 53,
   "id": "46dfb9e9-a8eb-4e12-bbaf-89c1f53c4d93",
   "metadata": {},
   "outputs": [],
   "source": [
    "count = {key : sum([1 for char in s if char == key]) for key in vowel}"
   ]
  },
  {
   "cell_type": "code",
   "execution_count": 54,
   "id": "e220ea77-a476-4e4a-b137-af0b65a578ff",
   "metadata": {},
   "outputs": [
    {
     "name": "stdout",
     "output_type": "stream",
     "text": [
      "{'a': 1, 'e': 2, 'i': 2, 'o': 2, 'u': 1}\n"
     ]
    }
   ],
   "source": [
    "print(count)"
   ]
  },
  {
   "cell_type": "code",
   "execution_count": null,
   "id": "9ff46286-3bcc-4c76-a7e1-730751dce2dd",
   "metadata": {},
   "outputs": [],
   "source": [
    "#in this way we can count the vowels in the string."
   ]
  },
  {
   "cell_type": "code",
   "execution_count": null,
   "id": "dfdc045d-81f0-45ac-956f-5c9ac22f8a99",
   "metadata": {},
   "outputs": [],
   "source": []
  },
  {
   "cell_type": "code",
   "execution_count": 1,
   "id": "7b61ea02-157e-4d67-bb7b-eb8d789f1b2f",
   "metadata": {},
   "outputs": [],
   "source": [
    "#sol.3:taking string as s"
   ]
  },
  {
   "cell_type": "code",
   "execution_count": null,
   "id": "b4cdc4cf-3045-43e2-a6e7-00c041009bbe",
   "metadata": {},
   "outputs": [],
   "source": []
  },
  {
   "cell_type": "code",
   "execution_count": 13,
   "id": "8d28be91-4331-4404-918f-5cfb77b30794",
   "metadata": {},
   "outputs": [],
   "source": [
    "s = \"i am okay\""
   ]
  },
  {
   "cell_type": "code",
   "execution_count": 14,
   "id": "1017a9ec-b1a1-4a7e-a76a-80a2f1b9775a",
   "metadata": {},
   "outputs": [
    {
     "data": {
      "text/plain": [
       "str"
      ]
     },
     "execution_count": 14,
     "metadata": {},
     "output_type": "execute_result"
    }
   ],
   "source": [
    "type(s)"
   ]
  },
  {
   "cell_type": "code",
   "execution_count": 9,
   "id": "ab92bde6-6f30-4af1-92a7-ecb3251e342a",
   "metadata": {},
   "outputs": [],
   "source": [
    "#now using slicing;\n",
    "reverse = s[::-1]"
   ]
  },
  {
   "cell_type": "code",
   "execution_count": 10,
   "id": "c372d71a-7ee5-4555-b13b-e0f2d7285ef7",
   "metadata": {},
   "outputs": [
    {
     "name": "stdout",
     "output_type": "stream",
     "text": [
      "the reverse of string using slicing is yako ma i\n"
     ]
    }
   ],
   "source": [
    "print(\"the reverse of string using slicing is\",reverse)"
   ]
  },
  {
   "cell_type": "code",
   "execution_count": 12,
   "id": "572a6bac-e322-4df5-8e02-808916348db9",
   "metadata": {},
   "outputs": [
    {
     "data": {
      "text/plain": [
       "'yako ma i'"
      ]
     },
     "execution_count": 12,
     "metadata": {},
     "output_type": "execute_result"
    }
   ],
   "source": [
    "#so,\n",
    "reverse "
   ]
  },
  {
   "cell_type": "code",
   "execution_count": null,
   "id": "cc8ad495-dfcf-4ab8-b618-34384510a5a7",
   "metadata": {},
   "outputs": [],
   "source": []
  },
  {
   "cell_type": "code",
   "execution_count": 15,
   "id": "522b1f4d-18a9-48c6-9ca0-2bcfe072f0fe",
   "metadata": {},
   "outputs": [],
   "source": [
    "#sol.4:taking a string"
   ]
  },
  {
   "cell_type": "code",
   "execution_count": 32,
   "id": "0e1fccca-b761-4f24-a7b2-0712114b6d11",
   "metadata": {},
   "outputs": [
    {
     "name": "stdin",
     "output_type": "stream",
     "text": [
      " member\n"
     ]
    }
   ],
   "source": [
    "s = input()"
   ]
  },
  {
   "cell_type": "code",
   "execution_count": 33,
   "id": "4f285447-0e03-4f5e-a35f-a39053898381",
   "metadata": {},
   "outputs": [
    {
     "data": {
      "text/plain": [
       "str"
      ]
     },
     "execution_count": 33,
     "metadata": {},
     "output_type": "execute_result"
    }
   ],
   "source": [
    "type(s)"
   ]
  },
  {
   "cell_type": "code",
   "execution_count": 34,
   "id": "2028b101-700a-4f4f-8196-d9af7e721fe1",
   "metadata": {},
   "outputs": [],
   "source": [
    "reverse = s[::-1]"
   ]
  },
  {
   "cell_type": "code",
   "execution_count": 35,
   "id": "154ecbba-4b25-41be-ae49-cd2887d81449",
   "metadata": {},
   "outputs": [
    {
     "data": {
      "text/plain": [
       "'rebmem'"
      ]
     },
     "execution_count": 35,
     "metadata": {},
     "output_type": "execute_result"
    }
   ],
   "source": [
    "reverse"
   ]
  },
  {
   "cell_type": "code",
   "execution_count": 36,
   "id": "52883b47-4f33-4b19-8cf2-b5eba86d4e09",
   "metadata": {},
   "outputs": [
    {
     "name": "stdout",
     "output_type": "stream",
     "text": [
      "no it is not a palindrome\n"
     ]
    }
   ],
   "source": [
    "if s == reverse:\n",
    "   print(\"yes it is palindrome\")\n",
    "else:\n",
    "    print(\"no it is not a palindrome\")"
   ]
  },
  {
   "cell_type": "code",
   "execution_count": 37,
   "id": "7838894f-12bb-450f-91a5-6eefd87c382d",
   "metadata": {},
   "outputs": [],
   "source": [
    "#in this way we can check whether the string is palindrome or not."
   ]
  },
  {
   "cell_type": "code",
   "execution_count": null,
   "id": "641836bc-c1c5-4e62-9f72-141d015b20a6",
   "metadata": {},
   "outputs": [],
   "source": []
  },
  {
   "cell_type": "code",
   "execution_count": 38,
   "id": "14c2638e-d96f-426c-934b-776c3da96bd4",
   "metadata": {},
   "outputs": [],
   "source": [
    "#SOL.5:REMOVE ALL THE SPACES FROM THE STRING;"
   ]
  },
  {
   "cell_type": "code",
   "execution_count": 43,
   "id": "739eb5ff-3e29-4c8f-9b74-8fa791a6f979",
   "metadata": {},
   "outputs": [
    {
     "name": "stdin",
     "output_type": "stream",
     "text": [
      " My name is vanshika jain\n"
     ]
    }
   ],
   "source": [
    "a = input()"
   ]
  },
  {
   "cell_type": "code",
   "execution_count": 40,
   "id": "b246f665-4eef-4acb-b0a7-0af1f06e81e9",
   "metadata": {},
   "outputs": [
    {
     "data": {
      "text/plain": [
       "str"
      ]
     },
     "execution_count": 40,
     "metadata": {},
     "output_type": "execute_result"
    }
   ],
   "source": [
    "type(a)"
   ]
  },
  {
   "cell_type": "code",
   "execution_count": 42,
   "id": "20a13a2b-d1bb-4b5f-94b5-b0049b870812",
   "metadata": {},
   "outputs": [],
   "source": [
    "s = a.replace(\" \",\"\")"
   ]
  },
  {
   "cell_type": "code",
   "execution_count": 44,
   "id": "55abd569-4943-457a-b351-b66b8db7f0cd",
   "metadata": {},
   "outputs": [
    {
     "name": "stdout",
     "output_type": "stream",
     "text": [
      "the modified string wthout spaces is   Mynameisvanshikajain\n"
     ]
    }
   ],
   "source": [
    "print(\"the modified string wthout spaces is  \",s)"
   ]
  },
  {
   "cell_type": "code",
   "execution_count": 45,
   "id": "05237982-a7df-443c-9e9f-80b69d72c89e",
   "metadata": {},
   "outputs": [
    {
     "data": {
      "text/plain": [
       "'Mynameisvanshikajain'"
      ]
     },
     "execution_count": 45,
     "metadata": {},
     "output_type": "execute_result"
    }
   ],
   "source": [
    "s"
   ]
  },
  {
   "cell_type": "code",
   "execution_count": 46,
   "id": "822076f8-7110-4d64-8aac-df274c38ca76",
   "metadata": {},
   "outputs": [],
   "source": [
    "#in this way we can remove all the spaces."
   ]
  },
  {
   "cell_type": "code",
   "execution_count": null,
   "id": "09c1e105-ff5c-4fa5-8989-763e13ae25e7",
   "metadata": {},
   "outputs": [],
   "source": [
    "#THANKYOU"
   ]
  }
 ],
 "metadata": {
  "kernelspec": {
   "display_name": "Python 3 (ipykernel)",
   "language": "python",
   "name": "python3"
  },
  "language_info": {
   "codemirror_mode": {
    "name": "ipython",
    "version": 3
   },
   "file_extension": ".py",
   "mimetype": "text/x-python",
   "name": "python",
   "nbconvert_exporter": "python",
   "pygments_lexer": "ipython3",
   "version": "3.10.8"
  }
 },
 "nbformat": 4,
 "nbformat_minor": 5
}
